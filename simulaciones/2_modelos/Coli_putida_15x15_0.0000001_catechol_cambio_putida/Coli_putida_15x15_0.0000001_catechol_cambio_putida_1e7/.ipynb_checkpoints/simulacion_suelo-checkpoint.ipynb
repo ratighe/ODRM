{
 "cells": [
  {
   "cell_type": "markdown",
   "id": "282405e2",
   "metadata": {},
   "source": [
    "**Soil-air interface.**\n",
    "\n",
    "Using the functionality of COMETS, one can design simulations which go beyond in silico corollaries of lab experiments to make predictions for environments mimicking natural ecosystems, which is a necessary step for understanding natural ecology from first principles. In this example, we consider a simulation of a soil environment. We use source-and-sink functions to model how a root provides organic acids to the environment while removing ammonia (Huang et al 2014 Botany). While we restrict the root functionality to a source/sink, one could use functionality demonstrated above, for example extracellular enzymes, to generate feedback loops between microbe-produced metabolites and root exudation. We use fixed metabolite concentrations to mimic the largely unchanging air interface above a root, which generates an oxygen gradient. Additionally, since soil is characterized by strong spatial structure with many impenetrable barriers that localized interactions (Nunan 2017), we place “rock” barriers throughout the simulation area. A more complex simulation could use varying diffusion constants for metabolites, as described in a previous protocol (Virtual Petri Dish). Similarly, we use standard diffusion of biomass, but this could be changed to use pushing force or non-linear diffusion for a potentially increased realism."
   ]
  },
  {
   "cell_type": "code",
   "execution_count": 1,
   "id": "3b939c01",
   "metadata": {},
   "outputs": [],
   "source": [
    "import cobra \n",
    "import sys \n",
    "import copy \n",
    "import numpy as np \n",
    "from matplotlib import pyplot as plt \n",
    "import cometspy as c"
   ]
  },
  {
   "cell_type": "markdown",
   "id": "47395a92",
   "metadata": {},
   "source": [
    "Para nuestro proyecto, utilizaremos Escherichia coli (modelo iAF1260), Pseudomonas putida (modelo iJN1463) y Saccharomyces Cerevisiae (modelo iMM904), recuperados de la base de datos BIGG.\n",
    "\n",
    "Cambiamos los bounds de las funciones objetivo de los modelos:"
   ]
  },
  {
   "cell_type": "code",
   "execution_count": null,
   "id": "cf16a85b",
   "metadata": {},
   "outputs": [],
   "source": [
    "model_dir = \"./modelos\" # model location\n",
    "iAF = cobra.io.read_sbml_model(model_dir + '/iAF1260.xml')\n",
    "iJN = cobra.io.read_sbml_model(model_dir + '/iJN1463.xml')\n",
    "\n",
    "iAF.reactions.get_by_id('BIOMASS_Ec_iAF1260_core_59p81M').lower_bound = 0\n",
    "iAF.reactions.get_by_id('BIOMASS_Ec_iAF1260_core_59p81M').upper_bound = 1000\n",
    "\n",
    "iJN.reactions.get_by_id('BIOMASS_KT2440_WT3').lower_bound = 0\n",
    "iJN.reactions.get_by_id('BIOMASS_KT2440_WT3').upper_bound = 1000\n"
   ]
  },
  {
   "cell_type": "markdown",
   "id": "c3c4174a",
   "metadata": {},
   "source": [
    "Luego se convierten estos modelos al formato de COMETS. Se utilizan funciones helper para dos cosas: a) Asegurar que el modelo en COMETS no confunda las reacciones de \"sink\" con las de exchange, ya que en COBRA están desbalanceadas y por tanto se parecen a las de exchange, y b) abrir todos los bounds de las reacciones de exchange, para que COMETS controle la composición del medio."
   ]
  },
  {
   "cell_type": "code",
   "execution_count": null,
   "id": "9b9a50ce",
   "metadata": {},
   "outputs": [],
   "source": [
    "iAF_comets = c.model(iAF)\n",
    "iAF_comets.ensure_sinks_are_not_exchanges()\n",
    "iAF_comets.open_exchanges()\n",
    "\n",
    "iJN_comets = c.model(iJN)\n",
    "iJN_comets.ensure_sinks_are_not_exchanges()\n",
    "iJN_comets.open_exchanges()\n"
   ]
  },
  {
   "cell_type": "markdown",
   "id": "d1c22233",
   "metadata": {},
   "source": [
    "El mundo que se simulará tendrá dimensiones de 30x30. El eje de la izquierda (x = 0) corresponde a la raíz, y el eje superior (y = 0) corresponde al aire. La biomasa y las rocas se distribuyen en el resto del grid. Donde hayan rocas no puede haber ni biomasa ni metabolitos, así que seleccionamos esos lugares primero. Para esta simulación, se generarán 3 rocas con un un tamaño medio de 1 cuadraditos. Para generar las piedras se utiliza la función helper grow_rocks."
   ]
  },
  {
   "cell_type": "code",
   "execution_count": null,
   "id": "7946cd63",
   "metadata": {},
   "outputs": [],
   "source": [
    "from cometspy.utils import grow_rocks, pick_random_locations\n",
    "\n",
    "grid_size = 15 # 100\n",
    "n_rocks = 27 # 70\n",
    "rock_locs = grow_rocks(n = n_rocks, xrange = [1,grid_size-1],yrange = [1,grid_size-1],mean_size = 1)"
   ]
  },
  {
   "cell_type": "markdown",
   "id": "d5e4d617",
   "metadata": {},
   "source": [
    "Cada especie será plantada en 20 lugares sin sobreponerse. Para esto se utiliza la función helper pick_random_locations, la cual toma como argumento una tupla generada anteriormente que marca lugares \"prohibidos\", como los cuadrados donde se encuentran las rocas. \n",
    "\n",
    "Generamos una copia de rock_locs para no cambiarla accidentalmente, y la llamamos forbbiden_locs:"
   ]
  },
  {
   "cell_type": "code",
   "execution_count": null,
   "id": "72454f48",
   "metadata": {},
   "outputs": [],
   "source": [
    "import copy\n",
    "forbidden_locs = copy.deepcopy(rock_locs)"
   ]
  },
  {
   "cell_type": "markdown",
   "id": "33be1359",
   "metadata": {},
   "source": [
    "Ahora elegimos al azar los lugares para cada especie, y los vamos añadiendo a la lista forbidden locs para que no se sobrepongan:"
   ]
  },
  {
   "cell_type": "code",
   "execution_count": null,
   "id": "9d3eadf3",
   "metadata": {},
   "outputs": [],
   "source": [
    "founders_per_species = 15 # 60\n",
    "iAF_locs = pick_random_locations(n = founders_per_species, \n",
    "                                   xrange = [1,grid_size], yrange = [1,grid_size], \n",
    "                                   forbidden_locs = forbidden_locs)\n",
    "forbidden_locs.extend(iAF_locs)\n",
    "iJN_locs = pick_random_locations(founders_per_species, [1,grid_size],[1,grid_size], forbidden_locs)"
   ]
  },
  {
   "cell_type": "markdown",
   "id": "cc8c514f",
   "metadata": {},
   "source": [
    "Para graficar los lugares utilizamos matplotlib:"
   ]
  },
  {
   "cell_type": "code",
   "execution_count": null,
   "id": "5f3b42e2",
   "metadata": {},
   "outputs": [],
   "source": [
    "from matplotlib import pyplot as plt\n",
    "initial_image = np.zeros((grid_size,grid_size,3))\n",
    "for rock in rock_locs:\n",
    "    initial_image[rock[0],rock[1],0:3] = 0.5 \n",
    "for loc in iAF_locs:\n",
    "    initial_image[loc[0],loc[1],1] = 1\n",
    "for loc in iJN_locs:\n",
    "    initial_image[loc[0],loc[1],2] = 1\n",
    "plt.imshow(initial_image)"
   ]
  },
  {
   "cell_type": "markdown",
   "id": "e5bb7cb1",
   "metadata": {},
   "source": [
    "Generamos el layout y agregamos las rocas:"
   ]
  },
  {
   "cell_type": "code",
   "execution_count": null,
   "id": "ef9d7fd5",
   "metadata": {},
   "outputs": [],
   "source": [
    "# iAF\n",
    "iAF_initial_pop = [] \n",
    "for loc in iJN_locs: \n",
    "    iAF_initial_pop.append([loc[0], loc[1], 1.e-8]) \n",
    "iAF_comets.initial_pop = iAF_initial_pop \n",
    "# iJN\n",
    "iJN_initial_pop = [] \n",
    "for loc in iJN_locs: \n",
    "    iJN_initial_pop.append([loc[0], loc[1], 1.e-7]) \n",
    "iJN_comets.initial_pop = iJN_initial_pop"
   ]
  },
  {
   "cell_type": "markdown",
   "id": "3bb91fd2",
   "metadata": {},
   "source": [
    "Setteamos las poblaciones iniciales para cada especie, con esto los modelos están listos y los añadimos al layout:"
   ]
  },
  {
   "cell_type": "code",
   "execution_count": null,
   "id": "fd8453bd",
   "metadata": {},
   "outputs": [],
   "source": [
    "layout = c.layout([iAF_comets, iJN_comets])\n",
    "layout.grid = [grid_size,grid_size]\n",
    "layout.add_barriers(rock_locs)"
   ]
  },
  {
   "cell_type": "markdown",
   "id": "3c25515b",
   "metadata": {},
   "source": [
    "Añadimos los metabolitos que estarán inicialmente disponibles en el ambiente. Usamos la función helper add_typical_trace_metabolites() para las trazas típicas. Bajamos el valor del oxígeno dado que la idea es que el que esté disponible difunda desde la atmósfera. Añadimos algunos metabolitos que no se añadieron con la función helper:"
   ]
  },
  {
   "cell_type": "code",
   "execution_count": null,
   "id": "a188bce6",
   "metadata": {},
   "outputs": [],
   "source": [
    "layout.add_typical_trace_metabolites()\n",
    "layout.set_specific_metabolite('o2_e',0.000001)\n",
    "layout.set_specific_metabolite('hco3_e',1000)\n",
    "layout.set_specific_metabolite('co2_e',1000)\n",
    "layout.set_specific_metabolite('h2_e',1000)\n",
    "layout.set_specific_metabolite('so3_e',1000)\n",
    "layout.set_specific_metabolite('nh4_e',0.0000001)\n",
    "\n",
    "layout.set_specific_metabolite('glc__D_e',0.0000001)\n",
    "layout.set_specific_metabolite('meoh_e',0.00000001)\n",
    "layout.set_specific_metabolite('cys__L_e',0.0000001)\n",
    "layout.set_specific_metabolite('catechol_e',0.0000001)"
   ]
  },
  {
   "cell_type": "markdown",
   "id": "6f3336df",
   "metadata": {},
   "source": [
    "Para la capa de aire, dejamos el oxígeno en un valor constante. Al fondo también dejamos al oxígeno en un valor fijo e igual a 0, para simular el efecto de difusión. De manera similar, hacemos lo mismo con el amoniaco y la raíz en la parte izquierda:"
   ]
  },
  {
   "cell_type": "code",
   "execution_count": null,
   "id": "2b35298f",
   "metadata": {},
   "outputs": [],
   "source": [
    "# set static media of O2 and CO2 at the top and bottom-- the \"air\" and continuous loss of O2 downwards\n",
    "for x in range(grid_size):\n",
    "    layout.set_specific_static_at_location('o2_e', (x,0), .0001) # top\n",
    "    layout.set_specific_static_at_location('o2_e', (x,grid_size-1), 0.) # bottom\n",
    "    layout.set_specific_static_at_location('co2_e', (x,0), .0001)\n",
    "    \n",
    "for x in range(grid_size):\n",
    "    layout.set_specific_static_at_location('nh4_e', (0,x), 0.0)"
   ]
  },
  {
   "cell_type": "markdown",
   "id": "6a437c32",
   "metadata": {},
   "source": [
    "La raíz consume todo el amoniaco, pero es una fuente de acidos orgánicos y metanol para el ambiente. Asumiendo una tasa fija:"
   ]
  },
  {
   "cell_type": "code",
   "execution_count": null,
   "id": "17f9fc12",
   "metadata": {},
   "outputs": [],
   "source": [
    "for x in range(grid_size):\n",
    "    layout.set_specific_refresh_at_location('cit_e', (0,x), .000001)\n",
    "    layout.set_specific_refresh_at_location('meoh_e', (0,x), .000001)\n",
    "    layout.set_specific_refresh_at_location('succ_e', (0,x), .000001)\n",
    "    "
   ]
  },
  {
   "cell_type": "markdown",
   "id": "0c94c5ad",
   "metadata": {},
   "source": [
    "El layout y los modelos están listos, ahora setteamos los parámetros de la simulación:"
   ]
  },
  {
   "cell_type": "code",
   "execution_count": null,
   "id": "a6538a62",
   "metadata": {},
   "outputs": [],
   "source": [
    "params = c.params()\n",
    "params.set_param('timeStep', 0.1)\n",
    "params.set_param('maxCycles', 1000)\n",
    "params.set_param('maxSpaceBiomass', 10)\n",
    "params.set_param('deathRate', 0.0001) # die at rate of 1/10000 per hour\n",
    "params.set_param('writeBiomassLog', True)\n",
    "params.set_param('BiomassLogRate', 500)\n",
    "params.set_param('writeMediaLog', True)\n",
    "params.set_param('MediaLogRate', 500)\n",
    "params.set_param(\"writeFluxLog\", True)\n",
    "params.set_param(\"FluxLogRate\", 500)\n",
    "params.set_param('numRunThreads', 3)\n",
    "params.set_param('defaultKm', 0.000001)"
   ]
  },
  {
   "cell_type": "markdown",
   "id": "4a281041",
   "metadata": {},
   "source": [
    "Ahora creamos el objeto de la simulación y la corremos. Ojito que se demora y el pc empieza a despegar."
   ]
  },
  {
   "cell_type": "code",
   "execution_count": null,
   "id": "7350d9ef",
   "metadata": {
    "scrolled": true
   },
   "outputs": [],
   "source": [
    "sim = c.comets(layout, params)\n",
    "sim.run(False)"
   ]
  },
  {
   "cell_type": "code",
   "execution_count": null,
   "id": "85ec82ec",
   "metadata": {
    "scrolled": false
   },
   "outputs": [],
   "source": [
    "print(sim.run_output)\n",
    "print(sim.run_errors)"
   ]
  },
  {
   "cell_type": "markdown",
   "id": "26fdd769",
   "metadata": {},
   "source": [
    "Para revisar la biomasa total "
   ]
  },
  {
   "cell_type": "code",
   "execution_count": null,
   "id": "7ac3ddc9",
   "metadata": {
    "scrolled": true
   },
   "outputs": [],
   "source": [
    "\n",
    "sim.total_biomass.plot(x = \"cycle\")"
   ]
  },
  {
   "cell_type": "markdown",
   "id": "c5ec6bec",
   "metadata": {},
   "source": [
    "Graficamos los resultados de biomasa y demás metabolitos interesantes en el grid:"
   ]
  },
  {
   "cell_type": "code",
   "execution_count": null,
   "id": "829d7efa",
   "metadata": {},
   "outputs": [],
   "source": [
    "im = sim.get_biomass_image('iAF1260', params.all_params['maxCycles'])\n",
    "im2 = sim.get_biomass_image('iJN1463',params.all_params['maxCycles'])\n",
    "\n",
    "final = np.zeros((grid_size,grid_size,3))\n",
    "final[:,:,0] = im / np.max(im)\n",
    "final[:,:,1] = im2 / np.max(im2)\n",
    "for rock in rock_locs:\n",
    "    final[rock[0],rock[1],0:3] = 0.4 \n",
    "from matplotlib import pyplot as plt\n",
    "ﬁg, ax = plt.subplots(ﬁgsize = (3.1, 3.1))\n",
    "ax.imshow(ﬁnal)\n",
    "plt.imshow(final)"
   ]
  },
  {
   "cell_type": "code",
   "execution_count": null,
   "id": "7c0f61e1",
   "metadata": {},
   "outputs": [],
   "source": [
    "plt.imshow(sim.get_metabolite_image(\"succ_e\",params.all_params['maxCycles']))"
   ]
  },
  {
   "cell_type": "code",
   "execution_count": null,
   "id": "4bf1ce24",
   "metadata": {},
   "outputs": [],
   "source": [
    "plt.imshow(sim.get_metabolite_image(\"ac_e\",params.all_params['maxCycles']))"
   ]
  },
  {
   "cell_type": "code",
   "execution_count": null,
   "id": "00116c8a",
   "metadata": {},
   "outputs": [],
   "source": [
    "plt.imshow(sim.get_metabolite_image(\"nh4_e\",params.all_params['maxCycles']))"
   ]
  },
  {
   "cell_type": "code",
   "execution_count": null,
   "id": "3ac80f5c",
   "metadata": {},
   "outputs": [],
   "source": [
    "plt.imshow(sim.get_metabolite_image(\"o2_e\",params.all_params['maxCycles']))"
   ]
  },
  {
   "cell_type": "code",
   "execution_count": null,
   "id": "c2efcb69",
   "metadata": {},
   "outputs": [],
   "source": [
    "plt.imshow(sim.get_metabolite_image(\"catechol_e\",params.all_params['maxCycles']))"
   ]
  },
  {
   "cell_type": "code",
   "execution_count": null,
   "id": "06fac23b",
   "metadata": {},
   "outputs": [],
   "source": []
  }
 ],
 "metadata": {
  "kernelspec": {
   "display_name": "Python 3 (ipykernel)",
   "language": "python",
   "name": "python3"
  },
  "language_info": {
   "codemirror_mode": {
    "name": "ipython",
    "version": 3
   },
   "file_extension": ".py",
   "mimetype": "text/x-python",
   "name": "python",
   "nbconvert_exporter": "python",
   "pygments_lexer": "ipython3",
   "version": "3.9.7"
  }
 },
 "nbformat": 4,
 "nbformat_minor": 5
}
